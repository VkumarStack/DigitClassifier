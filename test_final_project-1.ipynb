{
  "cells": [
    {
      "cell_type": "code",
      "execution_count": 6,
      "metadata": {
        "id": "JEzEsvbAccOY"
      },
      "outputs": [],
      "source": [
        "import numpy as np\n",
        "from PIL import Image, ImageOps\n",
        "import matplotlib.pyplot as plt\n",
        "import torch\n",
        "import torch.nn as nn\n",
        "import torch.nn.functional as F\n",
        "import torch.optim as optim"
      ]
    },
    {
      "cell_type": "code",
      "execution_count": 5,
      "metadata": {
        "colab": {
          "base_uri": "https://localhost:8080/"
        },
        "id": "UlhgeGGIq4Av",
        "outputId": "91738c4d-6b75-481a-a455-c2823dda2c63"
      },
      "outputs": [
        {
          "data": {
            "text/plain": [
              "<All keys matched successfully>"
            ]
          },
          "execution_count": 5,
          "metadata": {},
          "output_type": "execute_result"
        }
      ],
      "source": [
        "#edit all instances of 0 in this cell to reflect your team number\n",
        "#If this cell runs correctly it will output <All keys matched succesfully>\n",
        "from team5_final_project import Digit_Classifier5\n",
        "\n",
        "model5 = Digit_Classifier5() #change numbers in this line\n",
        "model5.load_state_dict(torch.load('./Weights/team5_final_weights.pth')) #I have it saved in this folder, change this to whatever folder you have this saved in (this is the saved weights of your model)"
      ]
    },
    {
      "cell_type": "code",
      "execution_count": 9,
      "metadata": {
        "colab": {
          "base_uri": "https://localhost:8080/",
          "height": 466
        },
        "id": "TFKy9zG9q6eA",
        "outputId": "1a78f7a3-5868-4e5f-bf7d-50701b63139e"
      },
      "outputs": [
        {
          "name": "stdout",
          "output_type": "stream",
          "text": [
            "(28, 28)\n",
            "The model guessed 3\n"
          ]
        },
        {
          "data": {
            "image/png": "[encoded data removed]",
            "text/plain": [
              "<Figure size 640x480 with 1 Axes>"
            ]
          },
          "metadata": {},
          "output_type": "display_data"
        }
      ],
      "source": [
        "img = Image.open('test.png').convert('L') #change the file path here\n",
        "img = ImageOps.invert(img)\n",
        "image = np.array(img)\n",
        "print(image.shape)\n",
        "plt.imshow(image.squeeze(), cmap='gray_r')\n",
        "\n",
        "guess0 = torch.argmax(model5(torch.tensor(image).float().unsqueeze(0))).item() #change number in this line\n",
        "print('The model guessed', guess0)"
      ]
    }
  ],
  "metadata": {
    "colab": {
      "provenance": []
    },
    "kernelspec": {
      "display_name": "Python 3",
      "name": "python3"
    },
    "language_info": {
      "codemirror_mode": {
        "name": "ipython",
        "version": 3
      },
      "file_extension": ".py",
      "mimetype": "text/x-python",
      "name": "python",
      "nbconvert_exporter": "python",
      "pygments_lexer": "ipython3",
      "version": "3.10.7"
    }
  },
  "nbformat": 4,
  "nbformat_minor": 0
}
